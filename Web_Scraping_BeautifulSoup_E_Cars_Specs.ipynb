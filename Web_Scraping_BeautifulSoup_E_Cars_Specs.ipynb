{
  "nbformat": 4,
  "nbformat_minor": 0,
  "metadata": {
    "colab": {
      "name": "Web Scraping-BeautifulSoup-E Cars Specs.ipynb",
      "provenance": [],
      "collapsed_sections": [],
      "authorship_tag": "ABX9TyNtwaamGkXdKs7E2uioAcFM",
      "include_colab_link": true
    },
    "kernelspec": {
      "name": "python3",
      "display_name": "Python 3"
    },
    "language_info": {
      "name": "python"
    }
  },
  "cells": [
    {
      "cell_type": "markdown",
      "metadata": {
        "id": "view-in-github",
        "colab_type": "text"
      },
      "source": [
        "<a href=\"https://colab.research.google.com/github/SaiPavanKumarB/Web-Scraping-E-cars-Specifications/blob/main/Web_Scraping_BeautifulSoup_E_Cars_Specs.ipynb\" target=\"_parent\"><img src=\"https://colab.research.google.com/assets/colab-badge.svg\" alt=\"Open In Colab\"/></a>"
      ]
    },
    {
      "cell_type": "markdown",
      "metadata": {
        "id": "wATN2OVKXL90"
      },
      "source": [
        "# <font color=\"blue\" face=\"Cambria\" size=6><center> Web Scraping Using Beautiful Soup </center></font>\n",
        "\n",
        "\n",
        "---\n",
        "\n",
        "\n",
        "- <font color=\"mediumvioletred\" face=\"Calibri\" size=4> E-Cars Specifications Data from EV Database website </font>\n",
        "\n",
        "\n",
        "\n",
        "\n",
        "\n",
        "\n",
        "---\n",
        "\n"
      ]
    },
    {
      "cell_type": "markdown",
      "metadata": {
        "id": "OzhBGVBYYxeZ"
      },
      "source": [
        "<font color=\"purple\" face=\"Calibri\" size=4> Import Libraries </font>\n",
        "\n"
      ]
    },
    {
      "cell_type": "code",
      "metadata": {
        "id": "QEbId38ITc4S"
      },
      "source": [
        "import requests\n",
        "import pandas as pd\n",
        "from bs4 import BeautifulSoup\n",
        "import os\n",
        "import re"
      ],
      "execution_count": 1,
      "outputs": []
    },
    {
      "cell_type": "markdown",
      "metadata": {
        "id": "fnfgRY9MZBJ1"
      },
      "source": [
        "<font color=\"purple\" face=\"Calibri\" size=4> Define the URL list </font>"
      ]
    },
    {
      "cell_type": "code",
      "metadata": {
        "id": "hpC4R-2PY_o1"
      },
      "source": [
        "Vehicle_list = [\"https://ev-database.uk/car/1209/Audi-e-tron-50-quattro\",\n",
        "\"https://ev-database.uk/car/1153/Audi-e-tron-GT-RS\",\n",
        "\"https://ev-database.uk/car/1145/BMW-i3-120-Ah\",\n",
        "\"https://ev-database.uk/car/1171/Honda-e\",\n",
        "\"https://ev-database.uk/car/1165/Hyundai-IONIQ-Electric\",\n",
        "\"https://ev-database.uk/car/1423/Hyundai-Kona-Electric-64-kWh\",\n",
        "\"https://ev-database.uk/car/1287/Jaguar-I-Pace-EV400\",\n",
        "\"https://ev-database.uk/car/1339/Kia-e-Niro-39-kWh\",\n",
        "\"https://ev-database.uk/car/1154/Kia-Soul-EV-64-kWh\",\n",
        "\"https://ev-database.uk/car/1251/Lexus-UX-300e\",\n",
        "\"https://ev-database.uk/car/1241/Mazda-MX-30\",\n",
        "\"https://ev-database.uk/car/1337/Mercedes-EQC-400-4MATIC\",\n",
        "\"https://ev-database.uk/car/1240/Mercedes-EQV-300\",\n",
        "\"https://ev-database.uk/car/1201/MG-ZS-EV\",\n",
        "\"https://ev-database.uk/car/1313/MG-MG5-EV\",\n",
        "\"https://ev-database.uk/car/1409/Mini-Electric\",\n",
        "\"https://ev-database.uk/car/1117/Nissan-e-NV200-Combi\",\n",
        "\"https://ev-database.uk/car/1106/Nissan-Leaf\",\n",
        "\"https://ev-database.uk/car/1117/Nissan-e-NV200-Combi\",\n",
        "\"https://ev-database.org/car/1192/Opel-Corsa-e\",\n",
        "\"https://ev-database.org/car/1278/Opel-Mokka-e\",\n",
        "\"https://ev-database.uk/car/1206/Peugeot-e-2008-SUV\",\n",
        "\"https://ev-database.uk/car/1168/Peugeot-e-208\",\n",
        "\"https://ev-database.uk/car/1393/Porsche-Taycan\",\n",
        "\"https://ev-database.uk/car/1393/Porsche-Taycan\",\n",
        "\"https://ev-database.uk/car/1164/Renault-Zoe-ZE50-R110\",\n",
        "\"https://ev-database.uk/car/1485/Tesla-Model-3-Standard-Range-Plus\",\n",
        "\"https://ev-database.org/car/1194/Tesla-Model-S-Long-Range\",\n",
        "\"https://ev-database.org/car/1198/Tesla-Model-X-Long-Range\",\n",
        "\"https://ev-database.org/car/1182/Tesla-Model-Y-Long-Range-Dual-Motor\",\n",
        "\"https://ev-database.org/car/1087/Volkswagen-e-Golf\",\n",
        "\"https://ev-database.uk/car/1127/Volkswagen-ID3-Pure-Performance\",\n",
        "\"https://ev-database.uk/car/1273/Volkswagen-ID4-1st\"]"
      ],
      "execution_count": 2,
      "outputs": []
    },
    {
      "cell_type": "markdown",
      "metadata": {
        "id": "Q94Ywy-0ZJwS"
      },
      "source": [
        "<font color=\"purple\" size=4 face=\"Calibri\"> Define Functions to scrap data & prepare dataframe </font>\n",
        "- <font color=\"purple\" size=4 face=\"Calibri\"> Request & response from URL </font>\n",
        "- <font color=\"purple\" size=4 face=\"Calibri\"> Extract the following from the HTML request </font>\n",
        "-- <font color=\"black\" size=3 face=\"Calibri\"> Range </font>\n",
        "-- <font color=\"black\" size=3 face=\"Calibri\"> Efficiency </font>\n",
        "-- <font color=\"black\" size=3 face=\"Calibri\"> Charging </font>\n",
        "-- <font color=\"black\" size=3 face=\"Calibri\"> Specifications </font>\n",
        "-- <font color=\"black\" size=3 face=\"Calibri\"> Dimenstions </font>"
      ]
    },
    {
      "cell_type": "code",
      "metadata": {
        "id": "SEm0Bnw6Zknk"
      },
      "source": [
        "def Conv_list_to_dic(lst):\n",
        "  it = iter(lst)\n",
        "  res_dict = dict(zip(it,it))\n",
        "  return res_dict"
      ],
      "execution_count": 3,
      "outputs": []
    },
    {
      "cell_type": "code",
      "metadata": {
        "id": "By0UvAergPPn"
      },
      "source": [
        "def get_data_from_url(url_link):\n",
        "  Response_dict= {'0-Vehicle Name':str(url_link.split(\"/\")[-1])}\n",
        "  URL = url_link\n",
        "  page = requests.get(URL)\n",
        "  soup = BeautifulSoup(page.content,'html.parser')\n",
        "  results = soup.find(id=\"range\")\n",
        "  range = results.find_all(\"td\")\n",
        "  final_range = []\n",
        "  for i in range:\n",
        "    elem = str(i)\n",
        "    elem_mod = re.sub('<td>','',elem)\n",
        "    elem_mod = re.sub('</td>','',elem_mod)\n",
        "    final_range.append(elem_mod)\n",
        "\n",
        "  #print(final_range)\n",
        "\n",
        "  results = soup.find(id=\"performance\")\n",
        "  range = results.find_all(\"td\")\n",
        "  final_performance = []\n",
        "  for i in range:\n",
        "    elem = str(i)\n",
        "    #elem_mod = re.sub('[^A-Za-z0-9]+',' ',elem)\n",
        "    elem_mod = re.sub('<td>','',elem)\n",
        "    elem_mod = re.sub('</td>','',elem_mod)\n",
        "    final_performance.append(elem_mod)\n",
        "  #print(final_performance)\n",
        "\n",
        "  results = soup.find(id=\"efficiency\")\n",
        "  range = results.find_all(\"td\")\n",
        "  final_efficiency = []\n",
        "  for i in range:\n",
        "    elem = str(i)\n",
        "    #elem_mod = re.sub('[^A-Za-z0-9]+',' ',elem)\n",
        "    elem_mod = re.sub('<td>','',elem)\n",
        "    elem_mod = re.sub('</td>','',elem_mod)\n",
        "    final_efficiency.append(elem_mod)\n",
        "  #print(final_efficiency)\n",
        "\n",
        "  results = soup.find(id=\"charging\")\n",
        "  range = results.find_all(\"td\")\n",
        "  final_charging = []\n",
        "  for i in range:\n",
        "    elem = str(i)\n",
        "    #elem_mod = re.sub('[^A-Za-z0-9]+',' ',elem)\n",
        "    elem_mod = re.sub('<td>','',elem)\n",
        "    elem_mod = re.sub('</td>','',elem_mod)\n",
        "    final_charging.append(elem_mod)\n",
        "  #print(final_charging)\n",
        "\n",
        "  results = soup.find('h2',text=\"Miscellaneous\").findParent()\n",
        "  range = results.find_all(\"td\")\n",
        "  final_specs = []\n",
        "  for i in range:\n",
        "    elem = str(i)\n",
        "    #elem_mod = re.sub('[^A-Za-z0-9]+',' ',elem)\n",
        "    elem_mod = re.sub('<td>','',elem)\n",
        "    elem_mod = re.sub('</td>','',elem_mod)\n",
        "    final_specs.append(elem_mod)\n",
        "  #print(final_specs)\n",
        "\n",
        "  results = soup.find('h2',text=\"Dimensions and Weight\").findParent()\n",
        "  range = results.find_all(\"td\")\n",
        "  final_dim = []\n",
        "  for i in range:\n",
        "    elem = str(i)\n",
        "    #elem_mod = re.sub('[^A-Za-z0-9]+',' ',elem)\n",
        "    elem_mod = re.sub('<td>','',elem)\n",
        "    elem_mod = re.sub('</td>','',elem_mod)\n",
        "    final_dim.append(elem_mod)\n",
        "  #print(final_dim)\n",
        "\n",
        "  df_list = [final_range,final_specs,final_performance,final_efficiency,final_dim,final_charging]\n",
        "  final_dict={}\n",
        "  for i in df_list:\n",
        "    name = str(i)+'_dict'\n",
        "    name = Conv_list_to_dic(i)\n",
        "    final_dict.update(name)\n",
        "\n",
        "  Response_dict.update(final_dict)\n",
        "  return Response_dict\n",
        "\n"
      ],
      "execution_count": 4,
      "outputs": []
    },
    {
      "cell_type": "markdown",
      "metadata": {
        "id": "83ZBRIYZaVeQ"
      },
      "source": [
        "<font color=\"purple\" face=\"Calibri\" size=4> Process the URL list & prepare final dataframe </font>"
      ]
    },
    {
      "cell_type": "code",
      "metadata": {
        "colab": {
          "base_uri": "https://localhost:8080/",
          "height": 374
        },
        "id": "jxxAAJI9XKLi",
        "outputId": "9796d4c8-0845-42d6-e32a-7c5e976921e3"
      },
      "source": [
        "Final_dataframe = []\n",
        "for url in Vehicle_list:\n",
        "  print(\"Processing : {}\".format(str(url.split(\"/\")[-1])))\n",
        "  temp_dict = get_data_from_url(url)\n",
        "  Final_dataframe.append(temp_dict)\n",
        "\n",
        "\n",
        "Final_dataframe = pd.DataFrame(Final_dataframe)\n",
        "Final_dataframe.head()\n"
      ],
      "execution_count": 5,
      "outputs": [
        {
          "output_type": "stream",
          "text": [
            "Processing : Audi-e-tron-50-quattro\n"
          ],
          "name": "stdout"
        },
        {
          "output_type": "error",
          "ename": "AttributeError",
          "evalue": "ignored",
          "traceback": [
            "\u001b[0;31m---------------------------------------------------------------------------\u001b[0m",
            "\u001b[0;31mAttributeError\u001b[0m                            Traceback (most recent call last)",
            "\u001b[0;32m<ipython-input-5-809126ef504d>\u001b[0m in \u001b[0;36m<module>\u001b[0;34m()\u001b[0m\n\u001b[1;32m      2\u001b[0m \u001b[0;32mfor\u001b[0m \u001b[0murl\u001b[0m \u001b[0;32min\u001b[0m \u001b[0mVehicle_list\u001b[0m\u001b[0;34m:\u001b[0m\u001b[0;34m\u001b[0m\u001b[0;34m\u001b[0m\u001b[0m\n\u001b[1;32m      3\u001b[0m   \u001b[0mprint\u001b[0m\u001b[0;34m(\u001b[0m\u001b[0;34m\"Processing : {}\"\u001b[0m\u001b[0;34m.\u001b[0m\u001b[0mformat\u001b[0m\u001b[0;34m(\u001b[0m\u001b[0mstr\u001b[0m\u001b[0;34m(\u001b[0m\u001b[0murl\u001b[0m\u001b[0;34m.\u001b[0m\u001b[0msplit\u001b[0m\u001b[0;34m(\u001b[0m\u001b[0;34m\"/\"\u001b[0m\u001b[0;34m)\u001b[0m\u001b[0;34m[\u001b[0m\u001b[0;34m-\u001b[0m\u001b[0;36m1\u001b[0m\u001b[0;34m]\u001b[0m\u001b[0;34m)\u001b[0m\u001b[0;34m)\u001b[0m\u001b[0;34m)\u001b[0m\u001b[0;34m\u001b[0m\u001b[0;34m\u001b[0m\u001b[0m\n\u001b[0;32m----> 4\u001b[0;31m   \u001b[0mtemp_dict\u001b[0m \u001b[0;34m=\u001b[0m \u001b[0mget_data_from_url\u001b[0m\u001b[0;34m(\u001b[0m\u001b[0murl\u001b[0m\u001b[0;34m)\u001b[0m\u001b[0;34m\u001b[0m\u001b[0;34m\u001b[0m\u001b[0m\n\u001b[0m\u001b[1;32m      5\u001b[0m   \u001b[0mFinal_dataframe\u001b[0m\u001b[0;34m.\u001b[0m\u001b[0mappend\u001b[0m\u001b[0;34m(\u001b[0m\u001b[0mtemp_dict\u001b[0m\u001b[0;34m)\u001b[0m\u001b[0;34m\u001b[0m\u001b[0;34m\u001b[0m\u001b[0m\n\u001b[1;32m      6\u001b[0m \u001b[0;34m\u001b[0m\u001b[0m\n",
            "\u001b[0;32m<ipython-input-4-65649dfc1da3>\u001b[0m in \u001b[0;36mget_data_from_url\u001b[0;34m(url_link)\u001b[0m\n\u001b[1;32m      5\u001b[0m   \u001b[0msoup\u001b[0m \u001b[0;34m=\u001b[0m \u001b[0mBeautifulSoup\u001b[0m\u001b[0;34m(\u001b[0m\u001b[0mpage\u001b[0m\u001b[0;34m.\u001b[0m\u001b[0mcontent\u001b[0m\u001b[0;34m,\u001b[0m\u001b[0;34m'html.parser'\u001b[0m\u001b[0;34m)\u001b[0m\u001b[0;34m\u001b[0m\u001b[0;34m\u001b[0m\u001b[0m\n\u001b[1;32m      6\u001b[0m   \u001b[0mresults\u001b[0m \u001b[0;34m=\u001b[0m \u001b[0msoup\u001b[0m\u001b[0;34m.\u001b[0m\u001b[0mfind\u001b[0m\u001b[0;34m(\u001b[0m\u001b[0mid\u001b[0m\u001b[0;34m=\u001b[0m\u001b[0;34m\"range\"\u001b[0m\u001b[0;34m)\u001b[0m\u001b[0;34m\u001b[0m\u001b[0;34m\u001b[0m\u001b[0m\n\u001b[0;32m----> 7\u001b[0;31m   \u001b[0mrange\u001b[0m \u001b[0;34m=\u001b[0m \u001b[0mresults\u001b[0m\u001b[0;34m.\u001b[0m\u001b[0mfind_all\u001b[0m\u001b[0;34m(\u001b[0m\u001b[0;34m\"td\"\u001b[0m\u001b[0;34m)\u001b[0m\u001b[0;34m\u001b[0m\u001b[0;34m\u001b[0m\u001b[0m\n\u001b[0m\u001b[1;32m      8\u001b[0m   \u001b[0mfinal_range\u001b[0m \u001b[0;34m=\u001b[0m \u001b[0;34m[\u001b[0m\u001b[0;34m]\u001b[0m\u001b[0;34m\u001b[0m\u001b[0;34m\u001b[0m\u001b[0m\n\u001b[1;32m      9\u001b[0m   \u001b[0;32mfor\u001b[0m \u001b[0mi\u001b[0m \u001b[0;32min\u001b[0m \u001b[0mrange\u001b[0m\u001b[0;34m:\u001b[0m\u001b[0;34m\u001b[0m\u001b[0;34m\u001b[0m\u001b[0m\n",
            "\u001b[0;31mAttributeError\u001b[0m: 'NoneType' object has no attribute 'find_all'"
          ]
        }
      ]
    }
  ]
}